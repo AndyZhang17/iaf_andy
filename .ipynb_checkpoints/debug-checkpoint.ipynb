{
 "cells": [
  {
   "cell_type": "code",
   "execution_count": 1,
   "metadata": {
    "collapsed": false
   },
   "outputs": [
    {
     "name": "stderr",
     "output_type": "stream",
     "text": [
      "Using gpu device 0: GeForce GT 750M (CNMeM is disabled, cuDNN not available)\n"
     ]
    }
   ],
   "source": [
    "# import theano\n",
    "import numpy as np\n",
    "import numpy.linalg as linalg\n",
    "import theano\n",
    "import theano.tensor as T\n",
    "import nodes\n",
    "import nodes.layers as layers\n",
    "import nodes.iaf as iaf\n",
    "import utils.mathT as mathT\n",
    "import utils.mathZ as mathZ\n",
    "floatX = theano.config.floatX"
   ]
  },
  {
   "cell_type": "code",
   "execution_count": 2,
   "metadata": {
    "collapsed": false
   },
   "outputs": [],
   "source": [
    "x = T.fmatrix()\n",
    "siglayer = iaf.IafSigmoid({'name':'sig'})\n",
    "datax  = np.array([[0,1],[-1,0],[2,2]],dtype=floatX)\n",
    "datax2 = np.array([[1,0],[2,0],[2,2]], dtype=floatX)"
   ]
  },
  {
   "cell_type": "code",
   "execution_count": 3,
   "metadata": {
    "collapsed": false
   },
   "outputs": [],
   "source": [
    "fx   = theano.function([x], siglayer.forward(x))\n",
    "fdet = theano.function([x], siglayer.logDetJacobian())"
   ]
  },
  {
   "cell_type": "code",
   "execution_count": 4,
   "metadata": {
    "collapsed": false
   },
   "outputs": [],
   "source": [
    "act1 = fx(datax)\n",
    "det1 = fdet(datax)\n",
    "det2 = fdet(datax2)\n",
    "act2 = fx(datax2)"
   ]
  },
  {
   "cell_type": "code",
   "execution_count": 5,
   "metadata": {
    "collapsed": false
   },
   "outputs": [
    {
     "name": "stdout",
     "output_type": "stream",
     "text": [
      "[[ 0.5         0.7310586 ]\n",
      " [ 0.26894143  0.5       ]\n",
      " [ 0.88079703  0.88079703]]\n"
     ]
    }
   ],
   "source": [
    "print(act1)"
   ]
  },
  {
   "cell_type": "code",
   "execution_count": 6,
   "metadata": {
    "collapsed": false
   },
   "outputs": [
    {
     "data": {
      "text/plain": [
       "-3.5111158"
      ]
     },
     "execution_count": 6,
     "metadata": {},
     "output_type": "execute_result"
    }
   ],
   "source": [
    "np.mean(np.sum(np.log(np.abs(act1*(1-act1))),axis=1))"
   ]
  },
  {
   "cell_type": "code",
   "execution_count": 7,
   "metadata": {
    "collapsed": false
   },
   "outputs": [],
   "source": [
    "x1 = T.fvector()\n",
    "x2 = T.fvector()\n",
    "tmp = T.sum(T.cast([x1,x2],dtype='float32'),0)\n",
    "ft = theano.function([x1,x2],tmp)"
   ]
  },
  {
   "cell_type": "code",
   "execution_count": 8,
   "metadata": {
    "collapsed": false
   },
   "outputs": [
    {
     "data": {
      "text/plain": [
       "array([  5.,   7.,   9.,  11.], dtype=float32)"
      ]
     },
     "execution_count": 8,
     "metadata": {},
     "output_type": "execute_result"
    }
   ],
   "source": [
    "ft(np.array([1,2,3,4],dtype='float32'),np.array([4,5,6,7],dtype='float32'))"
   ]
  },
  {
   "cell_type": "code",
   "execution_count": 18,
   "metadata": {
    "collapsed": false
   },
   "outputs": [],
   "source": [
    "musin = [[0,0],[1,1]]\n",
    "varsin = [np.eye(2),np.eye(2)]\n",
    "probs = [0.3,0.7]\n",
    "logTest = mathT.gaussMixInit(musin,varsin,probs,mean=True )\n",
    "logP,_ = mathZ.gaussMixInit(musin,varsin,probs)\n"
   ]
  },
  {
   "cell_type": "code",
   "execution_count": 19,
   "metadata": {
    "collapsed": false
   },
   "outputs": [],
   "source": [
    "x = T.fmatrix()\n",
    "flog = theano.function([x],logTest(x))"
   ]
  },
  {
   "cell_type": "code",
   "execution_count": 20,
   "metadata": {
    "collapsed": true
   },
   "outputs": [],
   "source": [
    "f32 = 'float32'\n",
    "datax = np.array([[1,1],[0,0]],dtype=f32)"
   ]
  },
  {
   "cell_type": "raw",
   "metadata": {},
   "source": []
  },
  {
   "cell_type": "code",
   "execution_count": 21,
   "metadata": {
    "collapsed": false
   },
   "outputs": [
    {
     "data": {
      "text/plain": [
       "array(-2.23514461517334, dtype=float32)"
      ]
     },
     "execution_count": 21,
     "metadata": {},
     "output_type": "execute_result"
    }
   ],
   "source": [
    "flog(datax)"
   ]
  },
  {
   "cell_type": "code",
   "execution_count": 22,
   "metadata": {
    "collapsed": false
   },
   "outputs": [
    {
     "data": {
      "text/plain": [
       "-2.2351454336987153"
      ]
     },
     "execution_count": 22,
     "metadata": {},
     "output_type": "execute_result"
    }
   ],
   "source": [
    "np.mean(logP(datax))"
   ]
  },
  {
   "cell_type": "code",
   "execution_count": null,
   "metadata": {
    "collapsed": true
   },
   "outputs": [],
   "source": []
  }
 ],
 "metadata": {
  "kernelspec": {
   "display_name": "Python 2",
   "language": "python",
   "name": "python2"
  },
  "language_info": {
   "codemirror_mode": {
    "name": "ipython",
    "version": 2
   },
   "file_extension": ".py",
   "mimetype": "text/x-python",
   "name": "python",
   "nbconvert_exporter": "python",
   "pygments_lexer": "ipython2",
   "version": "2.7.10"
  }
 },
 "nbformat": 4,
 "nbformat_minor": 0
}
