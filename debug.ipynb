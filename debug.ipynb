{
 "cells": [
  {
   "cell_type": "code",
   "execution_count": 2,
   "metadata": {
    "collapsed": false
   },
   "outputs": [
    {
     "name": "stdout",
     "output_type": "stream",
     "text": [
      "Using matplotlib backend: MacOSX\n",
      "Populating the interactive namespace from numpy and matplotlib\n"
     ]
    }
   ],
   "source": [
    "%pylab\n",
    "import os\n",
    "os.environ[\"THEANO_FLAGS\"] = \"mode=FAST_RUN,device=cpu,floatX=float32\"\n",
    "import numpy as np\n",
    "import numpy.linalg as linalg\n",
    "import theano\n",
    "import theano.tensor as T\n",
    "import utils.mathT as mathT\n",
    "import utils.mathZ as mathZ\n",
    "import utils.plotZ as plotZ\n",
    "f32 = theano.config.floatX"
   ]
  },
  {
   "cell_type": "code",
   "execution_count": 56,
   "metadata": {
    "collapsed": false
   },
   "outputs": [
    {
     "name": "stdout",
     "output_type": "stream",
     "text": [
      "['valx', 'es', 'ms', 'zs']\n",
      "-1.0\n"
     ]
    }
   ],
   "source": [
    "record = np.load('./tmp/debug.npz')\n",
    "print(record.keys())\n",
    "ms = record['ms']\n",
    "zs = record['zs']\n",
    "es = record['es']\n",
    "ITER,NUM,DIM = np.shape(zs)\n",
    "print(record['valx'])"
   ]
  },
  {
   "cell_type": "code",
   "execution_count": 35,
   "metadata": {
    "collapsed": false
   },
   "outputs": [
    {
     "name": "stdout",
     "output_type": "stream",
     "text": [
      "(1000, 4)\n"
     ]
    }
   ],
   "source": [
    "print( np.shape(ms))\n",
    "plotZ.line_2d(ms[:,1],title='log-q(z)')\n",
    "plotZ.line_2d(np.abs(ms[:,2:4]),title='log(abs)',legend=['log-p(z)','log-p(x|z)'],log='y')"
   ]
  },
  {
   "cell_type": "code",
   "execution_count": 37,
   "metadata": {
    "collapsed": false
   },
   "outputs": [],
   "source": [
    "var = np.zeros((ITER,2))\n",
    "for i in range(ITER):\n",
    "    var[i,0] = np.trace(np.dot(es[i,:,:].T,es[i,:,:]))/(NUM*DIM)\n",
    "    var[i,1] = np.trace(np.dot(zs[i,:,:].T,zs[i,:,:]))/(NUM*DIM)\n",
    "plotZ.line_2d(var,legend=['var-e','var-z'])"
   ]
  },
  {
   "cell_type": "code",
   "execution_count": 54,
   "metadata": {
    "collapsed": false
   },
   "outputs": [
    {
     "name": "stdout",
     "output_type": "stream",
     "text": [
      "1.00204778554\n"
     ]
    }
   ],
   "source": [
    "print(var[856,1])\n",
    "plotZ.line_2d(zs[[830,856,857],:,0].T,zs[[830,856,857],:,1].T,linetype='o',legend=['830','856','857'])"
   ]
  },
  {
   "cell_type": "code",
   "execution_count": 61,
   "metadata": {
    "collapsed": false
   },
   "outputs": [
    {
     "name": "stdout",
     "output_type": "stream",
     "text": [
      "(1000, 10, 2)\n"
     ]
    }
   ],
   "source": [
    "print(np.shape(zs))\n",
    "plotZ.line_2d(np.mean(np.prod(zs[850:865,:,:],axis=2),axis=1))"
   ]
  },
  {
   "cell_type": "code",
   "execution_count": 64,
   "metadata": {
    "collapsed": false
   },
   "outputs": [],
   "source": [
    "plotZ.line_2d(np.prod(zs[850:865,:,:],axis=2),title='prod z1*z2')"
   ]
  },
  {
   "cell_type": "code",
   "execution_count": null,
   "metadata": {
    "collapsed": true
   },
   "outputs": [],
   "source": []
  }
 ],
 "metadata": {
  "kernelspec": {
   "display_name": "Python 2",
   "language": "python",
   "name": "python2"
  },
  "language_info": {
   "codemirror_mode": {
    "name": "ipython",
    "version": 2
   },
   "file_extension": ".py",
   "mimetype": "text/x-python",
   "name": "python",
   "nbconvert_exporter": "python",
   "pygments_lexer": "ipython2",
   "version": "2.7.10"
  }
 },
 "nbformat": 4,
 "nbformat_minor": 0
}
