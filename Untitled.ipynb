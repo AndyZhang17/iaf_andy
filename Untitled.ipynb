{
 "cells": [
  {
   "cell_type": "code",
   "execution_count": 1,
   "metadata": {
    "collapsed": true
   },
   "outputs": [],
   "source": [
    "import os\n",
    "os.environ[\"THEANO_FLAGS\"] = \"mode=FAST_RUN,device=cpu,floatX=float32\"\n",
    "import theano\n",
    "import theano.tensor as T\n",
    "import numpy as np\n",
    "import numpy.random as npr\n",
    "import nodes as N\n",
    "f32 = theano.config.floatX\n",
    "ZERO=1e-7\n",
    "sinh = np.sinh\n",
    "cosh = np.cosh\n",
    "tanh = np.tanh\n",
    "exp = np.exp"
   ]
  },
  {
   "cell_type": "code",
   "execution_count": 27,
   "metadata": {
    "collapsed": false
   },
   "outputs": [],
   "source": [
    "w1 = np.array([[ 5.81540108,  0.9072175 ],\\\n",
    "               [-0.,         -0.99228317]])\n",
    "b1 = np.array( [-7.87969303,  0.113997  ] )\n",
    "u1 = np.array( [ 3.64952326,  0.64334512] )\n",
    "\n",
    "w2 = np.array([[ 0.41677463,  0.26881257],\\\n",
    "               [ 0.,          0.41814184]])\n",
    "b2 = np.array( [ 1.11006463, -0.6009872 ] )\n",
    "u2 = np.array( [-1.13209558, -1.79898369] )\n",
    "per = np.array([[0,1],[1,0]])"
   ]
  },
  {
   "cell_type": "code",
   "execution_count": 28,
   "metadata": {
    "collapsed": false
   },
   "outputs": [
    {
     "name": "stdout",
     "output_type": "stream",
     "text": [
      "[[-2.60138287 -8.58263571]]\n"
     ]
    }
   ],
   "source": [
    "e = np.array( [[-6.73204947, -1.90301168]] )\n",
    "z1 = np.tanh(np.dot(e,w1)+b1)*u1+e\n",
    "z2 = np.dot( z1, per )\n",
    "z3 = np.tanh(np.dot(z2,w2)+b2)*u2+z2\n",
    "print( z3 )"
   ]
  },
  {
   "cell_type": "code",
   "execution_count": 40,
   "metadata": {
    "collapsed": true
   },
   "outputs": [],
   "source": [
    "def fJaco(x,w,b,u):\n",
    "    a = np.dot(x,w)+b\n",
    "    coshsqr = np.cosh(a)**2\n",
    "    wdiag = np.diag(w)\n",
    "    return np.mean( np.sum( ZERO+np.log( np.abs(1+u*wdiag/coshsqr)),axis=1))\n",
    "def jacoDu(x,w,b,u):\n",
    "    a = np.dot(x,w)+b\n",
    "    coshsqr = np.cosh(a)**2\n",
    "    wdiag = np.diag(w)\n",
    "    c = wdiag/coshsqr\n",
    "    index = ((1+u*c)>0+0)*2.-1.\n",
    "    return index/np.abs(1.+u*c)*c\n",
    "\n",
    "def jaco1Dw(e,w,b,u):\n",
    "    alp = np.dot(e,w) + b\n",
    "    diagw = np.diag(w)\n",
    "    c = 1+u*diagw/(np.cosh(alp)**2)\n",
    "    print c\n",
    "    print alp\n",
    "    print np.cosh(alp)**3\n",
    "    indi = (c>0+0)*2.-1.\n",
    "    delt = indi/np.abs(c)*u/(np.cosh(alp)**2)*(1.-2*diagw*np.tanh(alp)*e)\n",
    "    return delt"
   ]
  },
  {
   "cell_type": "code",
   "execution_count": 41,
   "metadata": {
    "collapsed": false
   },
   "outputs": [
    {
     "name": "stdout",
     "output_type": "stream",
     "text": [
      "-0.000693866866509\n",
      "[[ 1.          0.99930617]]\n",
      "[[-47.02926079  -4.10510963]]\n",
      "[[  2.34722844e+60   2.79089530e+04]]\n",
      "[[ -1.59725352e-38   3.34082264e-03]]\n"
     ]
    }
   ],
   "source": [
    "print(fJaco(e,w1,b1,u1))\n",
    "print(np.array(jaco1Dw(e,w1,b1,u1),dtype=f32))"
   ]
  },
  {
   "cell_type": "code",
   "execution_count": 54,
   "metadata": {
    "collapsed": false
   },
   "outputs": [
    {
     "name": "stdout",
     "output_type": "stream",
     "text": [
      "[array(7.526534972872039e-21, dtype=float32), array(0.0, dtype=float32)]\n",
      "-1.0\n",
      "-1.0\n"
     ]
    }
   ],
   "source": [
    "x = T.fscalar()\n",
    "y = 1./T.cosh(x)\n",
    "fy = theano.function([x],[y,T.grad(y,x)])\n",
    "xin = np.array(-47.029,dtype=f32)\n",
    "print(fy(xin))\n",
    "fsign = theano.function([x], T.sgn(x))\n",
    "print(fsign(xin))\n",
    "print(np.sign(xin))"
   ]
  },
  {
   "cell_type": "code",
   "execution_count": 67,
   "metadata": {
    "collapsed": false
   },
   "outputs": [
    {
     "name": "stdout",
     "output_type": "stream",
     "text": [
      "1.50901803607\n",
      "2.9879759519\n"
     ]
    }
   ],
   "source": [
    "import matplotlib.pyplot as plt\n",
    "x = np.linspace(-3,+3,500)\n",
    "y1 = tanh(x)\n",
    "y2 = cosh(x)**2\n",
    "y1_ = np.sign(x)*(1-2*exp(-2*np.sign(x)*x))\n",
    "y2_ = (.5*exp(np.sign(x)*x))**2\n",
    "# plt.plot(x,y1)\n",
    "# plt.plot(x,y1_)\n",
    "plt.plot(x,y2)\n",
    "plt.plot(x,y2_)\n",
    "\n",
    "print( np.max(x[np.where(np.abs((y1-y1_)/y1)>0.005)] ))\n",
    "print( np.max(x[np.where(np.abs((y2-y2_)/y2)>0.005)] ))\n",
    "plt.show()"
   ]
  },
  {
   "cell_type": "code",
   "execution_count": 65,
   "metadata": {
    "collapsed": false
   },
   "outputs": [
    {
     "name": "stdout",
     "output_type": "stream",
     "text": [
      "[[-1.  0.  0.]\n",
      " [ 0. -1.  0.]\n",
      " [ 0.  0. -1.]]\n"
     ]
    }
   ],
   "source": [
    "def comp(tensorin,offset):\n",
    "    return tensorin>=offset\n",
    "m = T.fmatrix()\n",
    "k = T.fmatrix()\n",
    "s = T.switch( comp(m,1), k, m )\n",
    "fs = theano.function([m,k],s)\n",
    "mat = np.asarray(np.eye(3),dtype=f32)\n",
    "print( fs(mat,-mat) )"
   ]
  },
  {
   "cell_type": "code",
   "execution_count": 3,
   "metadata": {
    "collapsed": false
   },
   "outputs": [
    {
     "name": "stdout",
     "output_type": "stream",
     "text": [
      "[[-16.1          0.12252876]]\n"
     ]
    }
   ],
   "source": [
    "w = np.array([[-21.31,0],[0,0.324]])\n",
    "b = np.array([5.29,0.588])\n",
    "u = np.array([19.61,-1.38])\n",
    "e = np.array([[3.51,1.15]])\n",
    "def fz(e,w,b,u):\n",
    "    return tanh(np.dot(e,w)+b)*u+e\n",
    "print(fz(e,w,b,u))\n"
   ]
  },
  {
   "cell_type": "code",
   "execution_count": null,
   "metadata": {
    "collapsed": true
   },
   "outputs": [],
   "source": []
  },
  {
   "cell_type": "code",
   "execution_count": 1,
   "metadata": {
    "collapsed": true
   },
   "outputs": [],
   "source": [
    "import numpy as np\n",
    "import numpy.random as npr"
   ]
  },
  {
   "cell_type": "code",
   "execution_count": null,
   "metadata": {
    "collapsed": true
   },
   "outputs": [],
   "source": [
    "def multinomialSampler(n,pvals):\n",
    "    probs = np.array(pvals);\n",
    "    if np.sum(probs)!=1:\n",
    "        probs /= np.sum(probs)\n",
    "    cumprobs = np.array([ np.sum(probs[:i+1]) for i in range(len(probs))])\n"
   ]
  }
 ],
 "metadata": {
  "kernelspec": {
   "display_name": "Python 2",
   "language": "python",
   "name": "python2"
  },
  "language_info": {
   "codemirror_mode": {
    "name": "ipython",
    "version": 2
   },
   "file_extension": ".py",
   "mimetype": "text/x-python",
   "name": "python",
   "nbconvert_exporter": "python",
   "pygments_lexer": "ipython2",
   "version": "2.7.10"
  }
 },
 "nbformat": 4,
 "nbformat_minor": 0
}
